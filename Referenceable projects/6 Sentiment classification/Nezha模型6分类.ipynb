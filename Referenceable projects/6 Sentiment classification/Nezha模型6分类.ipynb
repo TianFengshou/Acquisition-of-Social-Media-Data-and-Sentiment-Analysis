{
 "cells": [
  {
   "cell_type": "markdown",
   "metadata": {},
   "source": [
    "# PaddleNLP实战：应用NeZha模型做微博情感6分类"
   ]
  },
  {
   "cell_type": "markdown",
   "metadata": {},
   "source": [
    "# 一.项目介绍\n",
    "\n",
    "## 1.1 项目背景\n",
    "情感分析技术一直是自然语言处理领域研究的重点内容之一。2020年，新冠肺炎疫情成为了全国人民关注的焦点，众多用户针对此次疫情在新浪微博等社交媒体平台上发表自己的看法，蕴含了非常丰富的情感信息。基于自然语言处理技术自动识别社交媒体文本中的情绪信息，可以帮助政府了解网民对各个事件的态度，及时发现人民的情绪波动，从而更有针对性地制定政策方针，具有重要的社会价值。尽管之前的社交媒体情感分析技术已经取得了不错的进展，但是如何将之前的研究成果快速高效地应用到疫情相关的数据当中，仍然是一个值得研究的问题。\n",
    "\n",
    "## 1.2 项目简介\n",
    "本项目主要基于PaddleNLP通过预训练模型NeZha在SMP2020微博情绪分类数据集上的微调完成6分类微情感分析模型的训练与优化，将微博文本按照其蕴含的情绪分为以下六个类别之一：neutral（无情绪）、happy（积极）、angry（愤怒）、sad（悲伤）、fear（恐惧）、surprise（惊奇）。"
   ]
  },
  {
   "cell_type": "markdown",
   "metadata": {},
   "source": [
    "![](https://ai-studio-static-online.cdn.bcebos.com/af7261ab63b54858952b55ec6064c92c078908b444a24844b15754ddd97a0fca)"
   ]
  },
  {
   "cell_type": "markdown",
   "metadata": {},
   "source": [
    "# 二.SMP2020微博情绪6分类数据集\n",
    "\n",
    "数据来源：SMP2020微博情绪分类技术评测 [http://39.97.118.137/](http://39.97.118.137/)\n",
    "\n",
    "本次使用数据集为SMP2020微博情绪分类技术评测数据集（SMP2020-EWECT）\n",
    "\n",
    "该技术评测使用的标注数据集由哈尔滨工业大学社会计算与信息检索研究中心提供，原始数据源于新浪微博，由微热点大数据研究院提供，数据集分为两部分。\n",
    "\n",
    "第一部分为通用微博数据集，该数据集内的微博内容是随机获取到微博内容，不针对特定的话题，覆盖的范围较广。\n",
    "\n",
    "第二部分为疫情微博数据集，该数据集内的微博内容是在疫情期间使用相关关键字筛选获得的疫情微博，其内容与新冠疫情相关。\n",
    "\n",
    "每条微博被标注为以下六个类别之一：neutral（无情绪）、happy（积极）、angry（愤怒）、sad（悲伤）、fear（恐惧）、surprise（惊奇）。\n",
    "\n",
    "通用微博训练数据集包括27,768条微博，验证集包含2,000条微博，测试数据集包含5,000条微博。\n",
    "\n",
    "疫情微博训练数据集包括8,606条微博，验证集包含2,000条微博，测试数据集包含3,000条微博。\n",
    "\n",
    "经处理后的该数据集已上传AI Studio，[https://aistudio.baidu.com/aistudio/datasetdetail/104703/0](https://aistudio.baidu.com/aistudio/datasetdetail/104703/0)\n",
    "数据集以csv格式存储，包含三列：数据编号，文本，情绪标签。"
   ]
  },
  {
   "cell_type": "markdown",
   "metadata": {},
   "source": [
    "![](https://ai-studio-static-online.cdn.bcebos.com/8affa7dad192424880fbdfb3ce80c24a2b2b8f259bbe48c8a9700d5b4c3a9c0b)"
   ]
  },
  {
   "cell_type": "markdown",
   "metadata": {},
   "source": [
    "## 2.1 解压并处理数据集\n",
    "训练、验证和测试集的划分上主要按照其官网默认的划分形式，感兴趣的也可以对其进行自定义划分！"
   ]
  },
  {
   "cell_type": "code",
   "execution_count": 1,
   "metadata": {
    "collapsed": false,
    "execution": {
     "iopub.execute_input": "2022-12-02T03:59:14.753145Z",
     "iopub.status.busy": "2022-12-02T03:59:14.752108Z",
     "iopub.status.idle": "2022-12-02T03:59:15.378336Z",
     "shell.execute_reply": "2022-12-02T03:59:15.377279Z",
     "shell.execute_reply.started": "2022-12-02T03:59:14.753107Z"
    },
    "jupyter": {
     "outputs_hidden": false
    },
    "scrolled": true
   },
   "outputs": [
    {
     "name": "stdout",
     "output_type": "stream",
     "text": [
      "/home/aistudio/data/data104703\r\n",
      "Archive:  data.zip\r\n",
      "  inflating: usual_eval_labeled.csv  \r\n",
      "  inflating: usual_test_labeled.csv  \r\n",
      "  inflating: usual_train.csv         \r\n",
      "  inflating: virus_eval_labeled.csv  \r\n",
      "  inflating: virus_test_labeled.csv  \r\n",
      "  inflating: virus_train.csv         \r\n"
     ]
    }
   ],
   "source": [
    "# 解压数据集\n",
    "%cd /home/aistudio/data/data104703/\n",
    "!unzip data.zip"
   ]
  },
  {
   "cell_type": "code",
   "execution_count": null,
   "metadata": {
    "collapsed": false,
    "execution": {
     "iopub.execute_input": "2022-12-02T03:59:25.297800Z",
     "iopub.status.busy": "2022-12-02T03:59:25.297056Z",
     "iopub.status.idle": "2022-12-02T03:59:25.888111Z",
     "shell.execute_reply": "2022-12-02T03:59:25.886974Z",
     "shell.execute_reply.started": "2022-12-02T03:59:25.297769Z"
    },
    "jupyter": {
     "outputs_hidden": false
    },
    "scrolled": true
   },
   "outputs": [],
   "source": [
    "# 通过pandas读取并处理数据\n",
    "import pandas as pd\n",
    "\n",
    "train1 = pd.read_csv('./data/virus_train.csv')  # 疫情微博训练数据集\n",
    "train2 = pd.read_csv('./data/usual_train.csv')  # 通用微博训练数据集\n",
    "train = pd.concat([train1,train2])  # 拼接训练集\n",
    "\n",
    "eval1 = pd.read_csv('./data/virus_eval_labeled.csv')  # 疫情微博验证数据集\n",
    "eval2 = pd.read_csv('./data/usual_eval_labeled.csv')  # 通用微博验证数据集\n",
    "eval = pd.concat([eval1,eval2])  # 拼接验证集\n",
    "\n",
    "test1 = pd.read_csv('./data/virus_test_labeled.csv')  # 疫情微博测试数据集\n",
    "test2 = pd.read_csv('./data/usual_test_labeled.csv')  # 通用微博测试数据集\n",
    "test = pd.concat([test1,test2])  # 拼接测试集\n",
    "\n",
    "total = pd.concat([train,eval,test])  # 构造总数据集便于统计分析"
   ]
  },
  {
   "cell_type": "code",
   "execution_count": 3,
   "metadata": {
    "collapsed": false,
    "execution": {
     "iopub.execute_input": "2022-12-02T03:59:30.319165Z",
     "iopub.status.busy": "2022-12-02T03:59:30.318554Z",
     "iopub.status.idle": "2022-12-02T03:59:30.345076Z",
     "shell.execute_reply": "2022-12-02T03:59:30.344251Z",
     "shell.execute_reply.started": "2022-12-02T03:59:30.319131Z"
    },
    "jupyter": {
     "outputs_hidden": false
    },
    "scrolled": true
   },
   "outputs": [],
   "source": [
    "# 将数据处理为text_a,label的格式便于进行统一处理\n",
    "train['label'] = train['情绪标签']\n",
    "eval['label'] = eval['情绪标签']\n",
    "test['label'] = test['情绪标签']\n",
    "total['label'] = total['情绪标签']\n",
    "\n",
    "train['text_a'] = train['文本']\n",
    "eval['text_a'] = eval['文本']\n",
    "test['text_a'] = test['文本']\n",
    "total['text_a'] = total['文本']\n",
    "\n",
    "train = train[['text_a', 'label']]\n",
    "eval = eval[['text_a', 'label']]\n",
    "test = test[['text_a', 'label']]\n",
    "total = total[['text_a', 'label']]"
   ]
  },
  {
   "cell_type": "markdown",
   "metadata": {},
   "source": [
    "## 2.2 数据分析EDA"
   ]
  },
  {
   "cell_type": "code",
   "execution_count": 4,
   "metadata": {
    "collapsed": false,
    "execution": {
     "iopub.execute_input": "2022-12-02T03:59:34.102293Z",
     "iopub.status.busy": "2022-12-02T03:59:34.101333Z",
     "iopub.status.idle": "2022-12-02T03:59:34.118658Z",
     "shell.execute_reply": "2022-12-02T03:59:34.117961Z",
     "shell.execute_reply.started": "2022-12-02T03:59:34.102261Z"
    },
    "jupyter": {
     "outputs_hidden": false
    },
    "scrolled": true
   },
   "outputs": [
    {
     "data": {
      "text/html": [
       "<div>\n",
       "<style scoped>\n",
       "    .dataframe tbody tr th:only-of-type {\n",
       "        vertical-align: middle;\n",
       "    }\n",
       "\n",
       "    .dataframe tbody tr th {\n",
       "        vertical-align: top;\n",
       "    }\n",
       "\n",
       "    .dataframe thead th {\n",
       "        text-align: right;\n",
       "    }\n",
       "</style>\n",
       "<table border=\"1\" class=\"dataframe\">\n",
       "  <thead>\n",
       "    <tr style=\"text-align: right;\">\n",
       "      <th></th>\n",
       "      <th>text_a</th>\n",
       "      <th>label</th>\n",
       "    </tr>\n",
       "  </thead>\n",
       "  <tbody>\n",
       "    <tr>\n",
       "      <th>0</th>\n",
       "      <td>天使</td>\n",
       "      <td>happy</td>\n",
       "    </tr>\n",
       "    <tr>\n",
       "      <th>1</th>\n",
       "      <td>致敬[心][心]小凡也要做好防护措施哦//@Mr_凡先生:致敬[心]大家出门记得戴口罩</td>\n",
       "      <td>happy</td>\n",
       "    </tr>\n",
       "    <tr>\n",
       "      <th>2</th>\n",
       "      <td>[中国赞][中国赞][中国赞]</td>\n",
       "      <td>happy</td>\n",
       "    </tr>\n",
       "    <tr>\n",
       "      <th>3</th>\n",
       "      <td>悲壮</td>\n",
       "      <td>sad</td>\n",
       "    </tr>\n",
       "    <tr>\n",
       "      <th>4</th>\n",
       "      <td>！！！一定会好起来</td>\n",
       "      <td>happy</td>\n",
       "    </tr>\n",
       "  </tbody>\n",
       "</table>\n",
       "</div>"
      ],
      "text/plain": [
       "                                        text_a  label\n",
       "0                                           天使  happy\n",
       "1  致敬[心][心]小凡也要做好防护措施哦//@Mr_凡先生:致敬[心]大家出门记得戴口罩  happy\n",
       "2                              [中国赞][中国赞][中国赞]  happy\n",
       "3                                           悲壮    sad\n",
       "4                                    ！！！一定会好起来  happy"
      ]
     },
     "execution_count": 4,
     "metadata": {},
     "output_type": "execute_result"
    }
   ],
   "source": [
    "# 查看数据前5条\n",
    "total.head()"
   ]
  },
  {
   "cell_type": "code",
   "execution_count": 5,
   "metadata": {
    "collapsed": false,
    "execution": {
     "iopub.execute_input": "2022-12-02T03:59:37.017348Z",
     "iopub.status.busy": "2022-12-02T03:59:37.016585Z",
     "iopub.status.idle": "2022-12-02T03:59:37.034281Z",
     "shell.execute_reply": "2022-12-02T03:59:37.033576Z",
     "shell.execute_reply.started": "2022-12-02T03:59:37.017314Z"
    },
    "jupyter": {
     "outputs_hidden": false
    },
    "scrolled": true
   },
   "outputs": [
    {
     "name": "stdout",
     "output_type": "stream",
     "text": [
      "<class 'pandas.core.frame.DataFrame'>\r\n",
      "Int64Index: 48374 entries, 0 to 4999\r\n",
      "Data columns (total 2 columns):\r\n",
      " #   Column  Non-Null Count  Dtype \r\n",
      "---  ------  --------------  ----- \r\n",
      " 0   text_a  48372 non-null  object\r\n",
      " 1   label   48374 non-null  object\r\n",
      "dtypes: object(2)\r\n",
      "memory usage: 1.1+ MB\r\n"
     ]
    }
   ],
   "source": [
    "# 查看总数据文件信息,可以看出共计有48374条数据\n",
    "total.info()"
   ]
  },
  {
   "cell_type": "code",
   "execution_count": 6,
   "metadata": {
    "collapsed": false,
    "execution": {
     "iopub.execute_input": "2022-12-02T03:59:39.200512Z",
     "iopub.status.busy": "2022-12-02T03:59:39.199850Z",
     "iopub.status.idle": "2022-12-02T03:59:39.213464Z",
     "shell.execute_reply": "2022-12-02T03:59:39.212577Z",
     "shell.execute_reply.started": "2022-12-02T03:59:39.200481Z"
    },
    "jupyter": {
     "outputs_hidden": false
    },
    "scrolled": true
   },
   "outputs": [
    {
     "name": "stdout",
     "output_type": "stream",
     "text": [
      "<class 'pandas.core.frame.DataFrame'>\r\n",
      "Int64Index: 36374 entries, 0 to 27767\r\n",
      "Data columns (total 2 columns):\r\n",
      " #   Column  Non-Null Count  Dtype \r\n",
      "---  ------  --------------  ----- \r\n",
      " 0   text_a  36372 non-null  object\r\n",
      " 1   label   36374 non-null  object\r\n",
      "dtypes: object(2)\r\n",
      "memory usage: 852.5+ KB\r\n"
     ]
    }
   ],
   "source": [
    "# 查看训练数据文件信息\n",
    "train.info()"
   ]
  },
  {
   "cell_type": "code",
   "execution_count": 7,
   "metadata": {
    "collapsed": false,
    "execution": {
     "iopub.execute_input": "2022-12-02T03:59:43.086637Z",
     "iopub.status.busy": "2022-12-02T03:59:43.086162Z",
     "iopub.status.idle": "2022-12-02T03:59:43.105378Z",
     "shell.execute_reply": "2022-12-02T03:59:43.104700Z",
     "shell.execute_reply.started": "2022-12-02T03:59:43.086607Z"
    },
    "jupyter": {
     "outputs_hidden": false
    },
    "scrolled": true
   },
   "outputs": [],
   "source": [
    "# 通过上面的分析可以看出text_a文本列是存在缺失值的，直接清除缺失值所在行\n",
    "train = train.dropna(subset=['text_a'])\n",
    "total = total.dropna(subset=['text_a'])"
   ]
  },
  {
   "cell_type": "code",
   "execution_count": 8,
   "metadata": {
    "collapsed": false,
    "execution": {
     "iopub.execute_input": "2022-12-02T03:59:49.637973Z",
     "iopub.status.busy": "2022-12-02T03:59:49.637297Z",
     "iopub.status.idle": "2022-12-02T03:59:49.661183Z",
     "shell.execute_reply": "2022-12-02T03:59:49.660555Z",
     "shell.execute_reply.started": "2022-12-02T03:59:49.637936Z"
    },
    "jupyter": {
     "outputs_hidden": false
    },
    "scrolled": true
   },
   "outputs": [
    {
     "data": {
      "text/plain": [
       "count    48372.000000\n",
       "mean        46.011081\n",
       "std         47.914503\n",
       "min          2.000000\n",
       "25%         21.000000\n",
       "50%         33.000000\n",
       "75%         56.000000\n",
       "max       3172.000000\n",
       "Name: text_a, dtype: float64"
      ]
     },
     "execution_count": 8,
     "metadata": {},
     "output_type": "execute_result"
    }
   ],
   "source": [
    "# 统计文本长度，便于确定文本最大截断长度\n",
    "total['text_a'].map(len).describe()"
   ]
  },
  {
   "cell_type": "markdown",
   "metadata": {},
   "source": [
    "根据文本长度分析可以看出文本总体上属于短文本"
   ]
  },
  {
   "cell_type": "code",
   "execution_count": 9,
   "metadata": {
    "collapsed": false,
    "execution": {
     "iopub.execute_input": "2022-12-02T03:59:53.380642Z",
     "iopub.status.busy": "2022-12-02T03:59:53.379844Z",
     "iopub.status.idle": "2022-12-02T03:59:53.391029Z",
     "shell.execute_reply": "2022-12-02T03:59:53.390345Z",
     "shell.execute_reply.started": "2022-12-02T03:59:53.380608Z"
    },
    "jupyter": {
     "outputs_hidden": false
    },
    "scrolled": true
   },
   "outputs": [
    {
     "data": {
      "text/plain": [
       "happy       13673\n",
       "angry       12536\n",
       "neutral      9615\n",
       "sad          7269\n",
       "surprise     2942\n",
       "fear         2337\n",
       "Name: label, dtype: int64"
      ]
     },
     "execution_count": 9,
     "metadata": {},
     "output_type": "execute_result"
    }
   ],
   "source": [
    "# 统计数据集中类别标签的分布情况\n",
    "total['label'].value_counts()"
   ]
  },
  {
   "cell_type": "code",
   "execution_count": 10,
   "metadata": {
    "collapsed": false,
    "execution": {
     "iopub.execute_input": "2022-12-02T03:59:55.667397Z",
     "iopub.status.busy": "2022-12-02T03:59:55.666249Z",
     "iopub.status.idle": "2022-12-02T03:59:56.540494Z",
     "shell.execute_reply": "2022-12-02T03:59:56.539752Z",
     "shell.execute_reply.started": "2022-12-02T03:59:55.667340Z"
    },
    "jupyter": {
     "outputs_hidden": false
    },
    "scrolled": true
   },
   "outputs": [
    {
     "data": {
      "image/png": "[encoded data removed]",
      "text/plain": [
       "<Figure size 640x480 with 1 Axes>"
      ]
     },
     "metadata": {},
     "output_type": "display_data"
    }
   ],
   "source": [
    "# 可视化类别标签分布情况\n",
    "%matplotlib inline\n",
    "total['label'].value_counts(normalize=True).plot(kind='bar');"
   ]
  },
  {
   "cell_type": "code",
   "execution_count": null,
   "metadata": {
    "collapsed": false,
    "execution": {
     "iopub.execute_input": "2022-12-02T03:59:58.858078Z",
     "iopub.status.busy": "2022-12-02T03:59:58.857207Z",
     "iopub.status.idle": "2022-12-02T03:59:58.978281Z",
     "shell.execute_reply": "2022-12-02T03:59:58.977469Z",
     "shell.execute_reply.started": "2022-12-02T03:59:58.858044Z"
    },
    "jupyter": {
     "outputs_hidden": false
    },
    "scrolled": true
   },
   "outputs": [],
   "source": [
    "# 对处理后的数据进行存储，格式统一为text_a,label\n",
    "train.to_csv('./data/train.csv', sep='\\t', index=False)\n",
    "eval.to_csv('./data/valid.csv', sep='\\t', index=False)\n",
    "test.to_csv('./data/test.csv', sep='\\t', index=False)"
   ]
  },
  {
   "cell_type": "markdown",
   "metadata": {},
   "source": [
    "# 三.基于PaddleNLP构建微情感分析模型"
   ]
  },
  {
   "cell_type": "markdown",
   "metadata": {},
   "source": [
    "![](https://ai-studio-static-online.cdn.bcebos.com/3bb5aa3806b745c49a5958fe1590ad11c8204527f56540e38a25dc61364e230e)"
   ]
  },
  {
   "cell_type": "markdown",
   "metadata": {},
   "source": [
    "## 3.1 前置环境准备"
   ]
  },
  {
   "cell_type": "code",
   "execution_count": 12,
   "metadata": {
    "collapsed": false,
    "execution": {
     "iopub.execute_input": "2022-12-02T04:00:03.509887Z",
     "iopub.status.busy": "2022-12-02T04:00:03.509052Z",
     "iopub.status.idle": "2022-12-02T04:00:05.032912Z",
     "shell.execute_reply": "2022-12-02T04:00:05.031753Z",
     "shell.execute_reply.started": "2022-12-02T04:00:03.509854Z"
    },
    "jupyter": {
     "outputs_hidden": false
    },
    "scrolled": true
   },
   "outputs": [],
   "source": [
    "# 导入所需的第三方库\n",
    "import math\n",
    "import numpy as np\n",
    "import os\n",
    "import collections\n",
    "from functools import partial\n",
    "import random\n",
    "import time\n",
    "import inspect\n",
    "import importlib\n",
    "from tqdm import tqdm\n",
    "import paddle\n",
    "import paddle.nn as nn\n",
    "import paddle.nn.functional as F\n",
    "from paddle.io import IterableDataset\n",
    "from paddle.utils.download import get_path_from_url"
   ]
  },
  {
   "cell_type": "code",
   "execution_count": null,
   "metadata": {
    "collapsed": false,
    "jupyter": {
     "outputs_hidden": false
    },
    "scrolled": true,
    "tags": []
   },
   "outputs": [],
   "source": [
    "# 下载最新版本的paddlenlp\n",
    "%pip install --upgrade paddlenlp"
   ]
  },
  {
   "cell_type": "code",
   "execution_count": 14,
   "metadata": {
    "collapsed": false,
    "execution": {
     "iopub.execute_input": "2022-12-02T04:00:27.786142Z",
     "iopub.status.busy": "2022-12-02T04:00:27.785318Z",
     "iopub.status.idle": "2022-12-02T04:00:29.023803Z",
     "shell.execute_reply": "2022-12-02T04:00:29.022741Z",
     "shell.execute_reply.started": "2022-12-02T04:00:27.786102Z"
    },
    "jupyter": {
     "outputs_hidden": false
    },
    "scrolled": true
   },
   "outputs": [],
   "source": [
    "# 导入paddlenlp相关的包\n",
    "import paddlenlp as ppnlp\n",
    "from paddlenlp.data import JiebaTokenizer, Pad, Stack, Tuple, Vocab\n",
    "from paddlenlp.datasets import MapDataset\n",
    "from paddle.dataset.common import md5file\n",
    "from paddlenlp.datasets import DatasetBuilder"
   ]
  },
  {
   "cell_type": "markdown",
   "metadata": {},
   "source": [
    "## 3.2 定义要进行微调的预训练模型\n",
    "此次使用华为的NeZha模型，该模型目前在中文领域上效果较优。 \n",
    "\n",
    "同时预训练模型一般“大力出奇迹”，选用大的预训练模型往往可以取得比base模型更优的效果\n",
    "\n",
    "PaddleNLP支持的更多预训练模型：[https://paddlenlp.readthedocs.io/zh/latest/model_zoo/index.html](https://paddlenlp.readthedocs.io/zh/latest/model_zoo/index.html)"
   ]
  },
  {
   "cell_type": "markdown",
   "metadata": {},
   "source": [
    "![](https://ai-studio-static-online.cdn.bcebos.com/0b9773f6d7454f459f5e1359b3b064223e4a83add47a4402a5c80a8f6b1c8fbf)"
   ]
  },
  {
   "cell_type": "code",
   "execution_count": 15,
   "metadata": {
    "collapsed": false,
    "execution": {
     "iopub.execute_input": "2022-12-02T04:00:41.722173Z",
     "iopub.status.busy": "2022-12-02T04:00:41.721157Z",
     "iopub.status.idle": "2022-12-02T04:01:07.224537Z",
     "shell.execute_reply": "2022-12-02T04:01:07.223293Z",
     "shell.execute_reply.started": "2022-12-02T04:00:41.722138Z"
    },
    "jupyter": {
     "outputs_hidden": false
    },
    "scrolled": true
   },
   "outputs": [
    {
     "name": "stderr",
     "output_type": "stream",
     "text": [
      "[2022-12-02 12:00:41,723] [    INFO] - Downloading https://bj.bcebos.com/paddlenlp/models/transformers/nezha/nezha-large-wwm-chinese.pdparams and saved to /home/aistudio/.paddlenlp/models/nezha-large-wwm-chinese\r\n",
      "100%|██████████| 1358267/1358267 [00:19<00:00, 71119.52it/s]\r\n",
      "W1202 12:01:00.947952   206 gpu_resources.cc:61] Please NOTE: device: 0, GPU Compute Capability: 7.0, Driver API Version: 11.2, Runtime API Version: 11.2\r\n",
      "W1202 12:01:00.952942   206 gpu_resources.cc:91] device: 0, cuDNN Version: 8.2.\r\n"
     ]
    }
   ],
   "source": [
    "# 只需指定想要使用的模型名称和文本分类的类别数即可完成Fine-tune网络定义，通过在预训练模型后拼接上一个全连接网络（Full Connected）进行分类\n",
    "# 由于本任务中的情感分类是6分类问题，设定num_classes为6\n",
    "# 此次需要注意，要修改使用Nezha以外其他模型的话，需要修改下NeZhaForSequenceClassification和NeZhaTokenizer，具体修改可以查看paddlenlp的api文档\n",
    "model = ppnlp.transformers.NeZhaForSequenceClassification.from_pretrained('nezha-large-wwm-chinese', num_classes=6)"
   ]
  },
  {
   "cell_type": "code",
   "execution_count": 16,
   "metadata": {
    "collapsed": false,
    "execution": {
     "iopub.execute_input": "2022-12-02T04:01:19.997108Z",
     "iopub.status.busy": "2022-12-02T04:01:19.996271Z",
     "iopub.status.idle": "2022-12-02T04:01:20.168316Z",
     "shell.execute_reply": "2022-12-02T04:01:20.167666Z",
     "shell.execute_reply.started": "2022-12-02T04:01:19.997074Z"
    },
    "jupyter": {
     "outputs_hidden": false
    },
    "scrolled": true
   },
   "outputs": [
    {
     "name": "stderr",
     "output_type": "stream",
     "text": [
      "[2022-12-02 12:01:19,999] [    INFO] - Downloading http://bj.bcebos.com/paddlenlp/models/transformers/nezha/nezha-chinese-vocab.txt and saved to /home/aistudio/.paddlenlp/models/nezha-large-wwm-chinese\r\n",
      "100%|██████████| 107/107 [00:00<00:00, 45451.74it/s]\r\n",
      "[2022-12-02 12:01:20,161] [    INFO] - tokenizer config file saved in /home/aistudio/.paddlenlp/models/nezha-large-wwm-chinese/tokenizer_config.json\r\n",
      "[2022-12-02 12:01:20,164] [    INFO] - Special tokens file saved in /home/aistudio/.paddlenlp/models/nezha-large-wwm-chinese/special_tokens_map.json\r\n"
     ]
    }
   ],
   "source": [
    "#调用ppnlp.transformers.BertTokenizer进行数据处理，tokenizer可以把原始输入文本转化成模型model可接受的输入数据格式。\n",
    "tokenizer =  ppnlp.transformers.NeZhaTokenizer.from_pretrained('nezha-large-wwm-chinese')"
   ]
  },
  {
   "cell_type": "markdown",
   "metadata": {},
   "source": [
    "## 3.3 数据读取和预处理"
   ]
  },
  {
   "cell_type": "code",
   "execution_count": 17,
   "metadata": {
    "collapsed": false,
    "execution": {
     "iopub.execute_input": "2022-12-02T04:02:06.690087Z",
     "iopub.status.busy": "2022-12-02T04:02:06.689289Z",
     "iopub.status.idle": "2022-12-02T04:02:06.698022Z",
     "shell.execute_reply": "2022-12-02T04:02:06.697209Z",
     "shell.execute_reply.started": "2022-12-02T04:02:06.690058Z"
    },
    "jupyter": {
     "outputs_hidden": false
    },
    "scrolled": true
   },
   "outputs": [
    {
     "name": "stdout",
     "output_type": "stream",
     "text": [
      "['happy', 'sad', 'neutral', 'fear', 'angry', 'surprise']\r\n"
     ]
    }
   ],
   "source": [
    "# 定义要进行分类的类别\n",
    "label_list=list(train.label.unique())\n",
    "print(label_list)"
   ]
  },
  {
   "cell_type": "code",
   "execution_count": null,
   "metadata": {
    "collapsed": false,
    "execution": {
     "iopub.execute_input": "2022-12-02T04:02:12.992883Z",
     "iopub.status.busy": "2022-12-02T04:02:12.992249Z",
     "iopub.status.idle": "2022-12-02T04:02:12.999566Z",
     "shell.execute_reply": "2022-12-02T04:02:12.998847Z",
     "shell.execute_reply.started": "2022-12-02T04:02:12.992850Z"
    },
    "jupyter": {
     "outputs_hidden": false
    },
    "scrolled": true
   },
   "outputs": [],
   "source": [
    "# 定义数据集对应文件及其文件存储格式\n",
    "class EmotionData(DatasetBuilder):\n",
    "    SPLITS = {\n",
    "        'train': './data/train.csv',  # 训练集\n",
    "        'dev': './data/valid.csv',    # 验证集\n",
    "        'test': './data/test.csv',    # 测试集\n",
    "    }\n",
    "\n",
    "    def _get_data(self, mode, **kwargs):\n",
    "        filename = self.SPLITS[mode]\n",
    "        return filename\n",
    "\n",
    "    def _read(self, filename):\n",
    "        \"\"\"读取数据\"\"\"\n",
    "        with open(filename, 'r', encoding='utf-8') as f:\n",
    "            head = None\n",
    "            for line in f:\n",
    "                data = line.strip().split(\"\\t\")    # 以'\\t'分隔各列\n",
    "                if not head:\n",
    "                    head = data\n",
    "                else:\n",
    "                    text_a, label = data\n",
    "                    yield {\"text_a\": text_a, \"label\": label}  # 数据的格式：text_a,label\n",
    "\n",
    "    def get_labels(self):\n",
    "        return label_list   # 类别标签"
   ]
  },
  {
   "cell_type": "code",
   "execution_count": 19,
   "metadata": {
    "collapsed": false,
    "execution": {
     "iopub.execute_input": "2022-12-02T04:02:16.266988Z",
     "iopub.status.busy": "2022-12-02T04:02:16.266486Z",
     "iopub.status.idle": "2022-12-02T04:02:16.271862Z",
     "shell.execute_reply": "2022-12-02T04:02:16.271189Z",
     "shell.execute_reply.started": "2022-12-02T04:02:16.266948Z"
    },
    "jupyter": {
     "outputs_hidden": false
    },
    "scrolled": true
   },
   "outputs": [],
   "source": [
    "# 定义数据集加载函数\n",
    "def load_dataset(name=None,\n",
    "                 data_files=None,\n",
    "                 splits=None,\n",
    "                 lazy=None,\n",
    "                 **kwargs):\n",
    "   \n",
    "    reader_cls = EmotionData\n",
    "    print(reader_cls)\n",
    "    if not name:\n",
    "        reader_instance = reader_cls(lazy=lazy, **kwargs)\n",
    "    else:\n",
    "        reader_instance = reader_cls(lazy=lazy, name=name, **kwargs)\n",
    "\n",
    "    datasets = reader_instance.read_datasets(data_files=data_files, splits=splits)\n",
    "    return datasets"
   ]
  },
  {
   "cell_type": "code",
   "execution_count": 20,
   "metadata": {
    "collapsed": false,
    "execution": {
     "iopub.execute_input": "2022-12-02T04:02:20.469165Z",
     "iopub.status.busy": "2022-12-02T04:02:20.468504Z",
     "iopub.status.idle": "2022-12-02T04:02:20.573223Z",
     "shell.execute_reply": "2022-12-02T04:02:20.572461Z",
     "shell.execute_reply.started": "2022-12-02T04:02:20.469134Z"
    },
    "jupyter": {
     "outputs_hidden": false
    },
    "scrolled": true
   },
   "outputs": [
    {
     "name": "stdout",
     "output_type": "stream",
     "text": [
      "<class '__main__.EmotionData'>\r\n"
     ]
    }
   ],
   "source": [
    "# 加载训练、验证集和测试集\n",
    "train_ds, dev_ds, test_ds = load_dataset(splits=[\"train\", \"dev\", \"test\"])"
   ]
  },
  {
   "cell_type": "code",
   "execution_count": 21,
   "metadata": {
    "collapsed": false,
    "execution": {
     "iopub.execute_input": "2022-12-02T04:02:22.906078Z",
     "iopub.status.busy": "2022-12-02T04:02:22.905281Z",
     "iopub.status.idle": "2022-12-02T04:02:22.913358Z",
     "shell.execute_reply": "2022-12-02T04:02:22.912451Z",
     "shell.execute_reply.started": "2022-12-02T04:02:22.906047Z"
    },
    "jupyter": {
     "outputs_hidden": false
    },
    "scrolled": true
   },
   "outputs": [],
   "source": [
    "# 定义数据加载和处理函数\n",
    "def convert_example(example, tokenizer, max_seq_length=512, is_test=False):\n",
    "    qtconcat = example[\"text_a\"]\n",
    "    encoded_inputs = tokenizer(text=qtconcat, max_seq_len=max_seq_length)\n",
    "    input_ids = encoded_inputs[\"input_ids\"]\n",
    "    token_type_ids = encoded_inputs[\"token_type_ids\"]\n",
    "\n",
    "    if not is_test:\n",
    "        label = np.array([example[\"label\"]], dtype=\"int64\")\n",
    "        return input_ids, token_type_ids, label\n",
    "    else:\n",
    "        return input_ids, token_type_ids\n",
    "\n",
    "# 数据加载函数dataloader\n",
    "def create_dataloader(dataset,\n",
    "                      mode='train',\n",
    "                      batch_size=1,\n",
    "                      batchify_fn=None,\n",
    "                      trans_fn=None):\n",
    "    if trans_fn:\n",
    "        dataset = dataset.map(trans_fn)\n",
    "\n",
    "    shuffle = True if mode == 'train' else False\n",
    "    if mode == 'train':\n",
    "        batch_sampler = paddle.io.DistributedBatchSampler(\n",
    "            dataset, batch_size=batch_size, shuffle=shuffle)\n",
    "    else:\n",
    "        batch_sampler = paddle.io.BatchSampler(\n",
    "            dataset, batch_size=batch_size, shuffle=shuffle)\n",
    "\n",
    "    return paddle.io.DataLoader(\n",
    "        dataset=dataset,\n",
    "        batch_sampler=batch_sampler,\n",
    "        collate_fn=batchify_fn,\n",
    "        return_list=True)"
   ]
  },
  {
   "cell_type": "code",
   "execution_count": 22,
   "metadata": {
    "collapsed": false,
    "execution": {
     "iopub.execute_input": "2022-12-02T04:02:32.984980Z",
     "iopub.status.busy": "2022-12-02T04:02:32.984215Z",
     "iopub.status.idle": "2022-12-02T04:02:32.991854Z",
     "shell.execute_reply": "2022-12-02T04:02:32.991107Z",
     "shell.execute_reply.started": "2022-12-02T04:02:32.984946Z"
    },
    "jupyter": {
     "outputs_hidden": false
    },
    "scrolled": true
   },
   "outputs": [],
   "source": [
    "# 批处理大小，显存如若不足的话可以适当改小该值  \n",
    "batch_size = 32\n",
    "# 文本序列最大截断长度，需要根据文本具体长度进行确定，不超过512\n",
    "max_seq_length = 128\n",
    "\n",
    "# 将数据处理成模型可读入的数据格式\n",
    "trans_func = partial(\n",
    "    convert_example,\n",
    "    tokenizer=tokenizer,\n",
    "    max_seq_length=max_seq_length)\n",
    "\n",
    "batchify_fn = lambda samples, fn=Tuple(\n",
    "    Pad(axis=0, pad_val=tokenizer.pad_token_id),  # input_ids\n",
    "    Pad(axis=0, pad_val=tokenizer.pad_token_type_id),  # token_type_ids\n",
    "    Stack()  # labels\n",
    "): [data for data in fn(samples)]\n",
    "\n",
    "# 训练集迭代器\n",
    "train_data_loader = create_dataloader(\n",
    "    train_ds,\n",
    "    mode='train',\n",
    "    batch_size=batch_size,\n",
    "    batchify_fn=batchify_fn,\n",
    "    trans_fn=trans_func)\n",
    "\n",
    "# 验证集迭代器\n",
    "dev_data_loader = create_dataloader(\n",
    "    dev_ds,\n",
    "    mode='dev',\n",
    "    batch_size=batch_size,\n",
    "    batchify_fn=batchify_fn,\n",
    "    trans_fn=trans_func)\n",
    "\n",
    "# 测试集迭代器\n",
    "test_data_loader = create_dataloader(\n",
    "    test_ds, \n",
    "    mode='test', \n",
    "    batch_size=batch_size, \n",
    "    batchify_fn=batchify_fn, \n",
    "    trans_fn=trans_func)"
   ]
  },
  {
   "cell_type": "markdown",
   "metadata": {},
   "source": [
    "## 3.4 设置Fine-Tune优化策略，接入评价指标\n",
    "适用于ERNIE/BERT这类Transformer模型的学习率为warmup的动态学习率。"
   ]
  },
  {
   "cell_type": "markdown",
   "metadata": {},
   "source": [
    "![](https://ai-studio-static-online.cdn.bcebos.com/56fbfd6649404638baecb1e6ebbd405e20f19ecb6d994b99b1562cdc7265d06a)"
   ]
  },
  {
   "cell_type": "code",
   "execution_count": 23,
   "metadata": {
    "collapsed": false,
    "execution": {
     "iopub.execute_input": "2022-12-02T04:03:29.406426Z",
     "iopub.status.busy": "2022-12-02T04:03:29.405525Z",
     "iopub.status.idle": "2022-12-02T04:03:29.413688Z",
     "shell.execute_reply": "2022-12-02T04:03:29.412925Z",
     "shell.execute_reply.started": "2022-12-02T04:03:29.406396Z"
    },
    "jupyter": {
     "outputs_hidden": false
    },
    "scrolled": true
   },
   "outputs": [],
   "source": [
    "# 定义超参，loss，优化器等\n",
    "from paddlenlp.transformers import LinearDecayWithWarmup\n",
    "\n",
    "# 定义训练过程中的最大学习率\n",
    "learning_rate = 2e-5\n",
    "# 训练轮次\n",
    "epochs = 4\n",
    "# 学习率预热比例\n",
    "warmup_proportion = 0.1\n",
    "# 权重衰减系数，类似模型正则项策略，避免模型过拟合\n",
    "weight_decay = 0.01\n",
    "\n",
    "num_training_steps = len(train_data_loader) * epochs\n",
    "lr_scheduler = LinearDecayWithWarmup(learning_rate, num_training_steps, warmup_proportion)\n",
    "\n",
    "# AdamW优化器\n",
    "optimizer = paddle.optimizer.AdamW(\n",
    "    learning_rate=lr_scheduler,\n",
    "    parameters=model.parameters(),\n",
    "    weight_decay=weight_decay,\n",
    "    apply_decay_param_fun=lambda x: x in [\n",
    "        p.name for n, p in model.named_parameters()\n",
    "        if not any(nd in n for nd in [\"bias\", \"norm\"])\n",
    "    ])\n",
    "\n",
    "criterion = paddle.nn.loss.CrossEntropyLoss()  # 交叉熵损失函数\n",
    "metric = paddle.metric.Accuracy()  # accuracy评价指标"
   ]
  },
  {
   "cell_type": "markdown",
   "metadata": {},
   "source": [
    "## 3.5 模型训练与评估\n",
    "ps：模型训练时，可以通过在终端输入**nvdia-smi**命令或者通过点击底部‘性能监控’选项查看显存的占用情况，适当调整好batchsize。\n",
    "\n",
    "若显存仍然不足的话，可以考虑下使用些轻量级的预训练模型如ERNIE-tiny等。"
   ]
  },
  {
   "cell_type": "code",
   "execution_count": 24,
   "metadata": {
    "collapsed": false,
    "execution": {
     "iopub.execute_input": "2022-12-02T04:04:00.332205Z",
     "iopub.status.busy": "2022-12-02T04:04:00.331748Z",
     "iopub.status.idle": "2022-12-02T04:04:00.338605Z",
     "shell.execute_reply": "2022-12-02T04:04:00.337841Z",
     "shell.execute_reply.started": "2022-12-02T04:04:00.332173Z"
    },
    "jupyter": {
     "outputs_hidden": false
    },
    "scrolled": true
   },
   "outputs": [],
   "source": [
    "# 定义模型训练验证评估函数\n",
    "@paddle.no_grad()\n",
    "def evaluate(model, criterion, metric, data_loader):\n",
    "    \"\"\"\n",
    "    Given a dataset, it evals model and computes the metric.\n",
    "\n",
    "    Args:\n",
    "        model(obj:`paddle.nn.Layer`): A model to classify texts.\n",
    "        data_loader(obj:`paddle.io.DataLoader`): The dataset loader which generates batches.\n",
    "        criterion(obj:`paddle.nn.Layer`): It can compute the loss.\n",
    "        metric(obj:`paddle.metric.Metric`): The evaluation metric.\n",
    "    \"\"\"\n",
    "    model.eval()\n",
    "    metric.reset()\n",
    "    losses = []\n",
    "    for batch in data_loader:\n",
    "        input_ids, token_type_ids, labels = batch\n",
    "        logits = model(input_ids, token_type_ids)\n",
    "        loss = criterion(logits, labels)\n",
    "        losses.append(loss.numpy())\n",
    "        correct = metric.compute(logits, labels)\n",
    "        metric.update(correct)\n",
    "        accu = metric.accumulate()\n",
    "    print(\"eval loss: %.5f, accu: %.5f\" % (np.mean(losses), accu))\n",
    "    model.train()\n",
    "    metric.reset()\n",
    "    return accu  # 返回准确率"
   ]
  },
  {
   "cell_type": "code",
   "execution_count": null,
   "metadata": {
    "collapsed": false,
    "jupyter": {
     "outputs_hidden": false
    },
    "scrolled": true,
    "tags": []
   },
   "outputs": [],
   "source": [
    "# 模型训练：\n",
    "import paddle.nn.functional as F\n",
    "\n",
    "save_dir = \"checkpoint\"\n",
    "if not  os.path.exists(save_dir):\n",
    "    os.makedirs(save_dir)\n",
    "\n",
    "pre_accu=0\n",
    "accu=0\n",
    "global_step = 0\n",
    "for epoch in range(1, epochs + 1):\n",
    "    for step, batch in enumerate(train_data_loader, start=1):\n",
    "        input_ids, segment_ids, labels = batch\n",
    "        logits = model(input_ids, segment_ids)\n",
    "        loss = criterion(logits, labels)\n",
    "        probs = F.softmax(logits, axis=1)\n",
    "        correct = metric.compute(probs, labels)\n",
    "        metric.update(correct)\n",
    "        acc = metric.accumulate()\n",
    "\n",
    "        global_step += 1\n",
    "        if global_step % 10 == 0 :\n",
    "            print(\"global step %d, epoch: %d, batch: %d, loss: %.5f, acc: %.5f\" % (global_step, epoch, step, loss, acc))\n",
    "        loss.backward()\n",
    "        optimizer.step()\n",
    "        lr_scheduler.step()\n",
    "        optimizer.clear_grad()\n",
    "    # 每轮结束对验证集进行评估\n",
    "    accu = evaluate(model, criterion, metric, dev_data_loader)\n",
    "    print(accu)\n",
    "    if accu > pre_accu:\n",
    "        # 保存较上一轮效果更优的模型参数\n",
    "        save_param_path = os.path.join(save_dir, 'model_state.pdparams')  # 保存模型参数\n",
    "        paddle.save(model.state_dict(), save_param_path)\n",
    "        pre_accu=accu\n",
    "tokenizer.save_pretrained(save_dir)"
   ]
  },
  {
   "cell_type": "code",
   "execution_count": null,
   "metadata": {
    "collapsed": false,
    "execution": {
     "iopub.execute_input": "2022-12-02T05:05:20.342067Z",
     "iopub.status.busy": "2022-12-02T05:05:20.341551Z",
     "iopub.status.idle": "2022-12-02T05:05:22.662110Z",
     "shell.execute_reply": "2022-12-02T05:05:22.661389Z",
     "shell.execute_reply.started": "2022-12-02T05:05:20.342043Z"
    },
    "jupyter": {
     "outputs_hidden": false
    },
    "scrolled": true
   },
   "outputs": [
    {
     "name": "stdout",
     "output_type": "stream",
     "text": [
      "Loaded parameters from checkpoint/model_state.pdparams\r\n"
     ]
    }
   ],
   "source": [
    "# 加载在验证集上效果最优的一轮的模型参数\n",
    "import os\n",
    "import paddle\n",
    "\n",
    "params_path = './checkpoint/model_state.pdparams'\n",
    "if params_path and os.path.isfile(params_path):\n",
    "    # 加载模型参数\n",
    "    state_dict = paddle.load(params_path)\n",
    "    model.set_dict(state_dict)\n",
    "    print(\"Loaded parameters from %s\" % params_path)"
   ]
  },
  {
   "cell_type": "code",
   "execution_count": null,
   "metadata": {
    "scrolled": true
   },
   "outputs": [],
   "source": [
    "# 由于data目录下文件不保存，故将训练好的模型参数复制到work目录下便于存储\n",
    "# !cp /home/aistudio/data/data104703/checkpoint/model_state.pdparams /home/aistudio/work/"
   ]
  },
  {
   "cell_type": "code",
   "execution_count": 27,
   "metadata": {
    "collapsed": false,
    "execution": {
     "iopub.execute_input": "2022-12-02T05:05:22.664204Z",
     "iopub.status.busy": "2022-12-02T05:05:22.663730Z",
     "iopub.status.idle": "2022-12-02T05:05:54.873045Z",
     "shell.execute_reply": "2022-12-02T05:05:54.872178Z",
     "shell.execute_reply.started": "2022-12-02T05:05:22.664179Z"
    },
    "jupyter": {
     "outputs_hidden": false
    },
    "scrolled": true
   },
   "outputs": [
    {
     "name": "stdout",
     "output_type": "stream",
     "text": [
      "eval loss: 0.60471, accu: 0.79200\r\n"
     ]
    },
    {
     "data": {
      "text/plain": [
       "0.792"
      ]
     },
     "execution_count": 27,
     "metadata": {},
     "output_type": "execute_result"
    }
   ],
   "source": [
    "# 测试最优模型参数在验证集上的分数\n",
    "evaluate(model, criterion, metric, dev_data_loader)"
   ]
  },
  {
   "cell_type": "code",
   "execution_count": 28,
   "metadata": {
    "collapsed": false,
    "execution": {
     "iopub.execute_input": "2022-12-02T05:05:54.874637Z",
     "iopub.status.busy": "2022-12-02T05:05:54.874282Z",
     "iopub.status.idle": "2022-12-02T05:06:59.107770Z",
     "shell.execute_reply": "2022-12-02T05:06:59.106711Z",
     "shell.execute_reply.started": "2022-12-02T05:05:54.874607Z"
    },
    "jupyter": {
     "outputs_hidden": false
    },
    "scrolled": true
   },
   "outputs": [
    {
     "name": "stdout",
     "output_type": "stream",
     "text": [
      "eval loss: 0.59394, accu: 0.79438\r\n"
     ]
    },
    {
     "data": {
      "text/plain": [
       "0.794375"
      ]
     },
     "execution_count": 28,
     "metadata": {},
     "output_type": "execute_result"
    }
   ],
   "source": [
    "# 对测试集进行评估\n",
    "evaluate(model, criterion, metric, test_data_loader)"
   ]
  },
  {
   "cell_type": "markdown",
   "metadata": {},
   "source": [
    "## 3.6 模型预测"
   ]
  },
  {
   "cell_type": "code",
   "execution_count": 29,
   "metadata": {
    "collapsed": false,
    "execution": {
     "iopub.execute_input": "2022-12-02T05:06:59.109554Z",
     "iopub.status.busy": "2022-12-02T05:06:59.109194Z",
     "iopub.status.idle": "2022-12-02T05:06:59.118830Z",
     "shell.execute_reply": "2022-12-02T05:06:59.117990Z",
     "shell.execute_reply.started": "2022-12-02T05:06:59.109523Z"
    },
    "jupyter": {
     "outputs_hidden": false
    },
    "scrolled": true
   },
   "outputs": [],
   "source": [
    "# 定义模型预测函数\n",
    "def predict(model, data, tokenizer, label_map, batch_size=1):\n",
    "    examples = []\n",
    "    for text in data:\n",
    "        input_ids, segment_ids = convert_example(\n",
    "            text,\n",
    "            tokenizer,\n",
    "            max_seq_length=128,\n",
    "            is_test=True)\n",
    "        examples.append((input_ids, segment_ids))\n",
    "\n",
    "    batchify_fn = lambda samples, fn=Tuple(\n",
    "        Pad(axis=0, pad_val=tokenizer.pad_token_id),  # input id\n",
    "        Pad(axis=0, pad_val=tokenizer.pad_token_id),  # segment id\n",
    "    ): fn(samples)\n",
    "\n",
    "    # Seperates data into some batches.\n",
    "    batches = []\n",
    "    one_batch = []\n",
    "    for example in examples:\n",
    "        one_batch.append(example)\n",
    "        if len(one_batch) == batch_size:\n",
    "            batches.append(one_batch)\n",
    "            one_batch = []\n",
    "    if one_batch:\n",
    "        # The last batch whose size is less than the config batch_size setting.\n",
    "        batches.append(one_batch)\n",
    "\n",
    "    results = []\n",
    "    model.eval()\n",
    "    for batch in batches:\n",
    "        input_ids, segment_ids = batchify_fn(batch)\n",
    "        input_ids = paddle.to_tensor(input_ids)\n",
    "        segment_ids = paddle.to_tensor(segment_ids)\n",
    "        logits = model(input_ids, segment_ids)\n",
    "        probs = F.softmax(logits, axis=1)\n",
    "        idx = paddle.argmax(probs, axis=1).numpy()\n",
    "        idx = idx.tolist()\n",
    "        labels = [label_map[i] for i in idx]\n",
    "        results.extend(labels)\n",
    "    return results"
   ]
  },
  {
   "cell_type": "code",
   "execution_count": 30,
   "metadata": {
    "collapsed": false,
    "execution": {
     "iopub.execute_input": "2022-12-02T05:06:59.120106Z",
     "iopub.status.busy": "2022-12-02T05:06:59.119823Z",
     "iopub.status.idle": "2022-12-02T05:06:59.129987Z",
     "shell.execute_reply": "2022-12-02T05:06:59.129107Z",
     "shell.execute_reply.started": "2022-12-02T05:06:59.120085Z"
    },
    "jupyter": {
     "outputs_hidden": false
    },
    "scrolled": true
   },
   "outputs": [
    {
     "name": "stdout",
     "output_type": "stream",
     "text": [
      "{0: 'happy', 1: 'sad', 2: 'neutral', 3: 'fear', 4: 'angry', 5: 'surprise'}\r\n"
     ]
    }
   ],
   "source": [
    "# 定义要进行分类的类别\n",
    "label_list=list(train.label.unique())\n",
    "label_map = { \n",
    "    idx: label_text for idx, label_text in enumerate(label_list)\n",
    "}\n",
    "print(label_map)"
   ]
  },
  {
   "cell_type": "code",
   "execution_count": 31,
   "metadata": {
    "collapsed": false,
    "execution": {
     "iopub.execute_input": "2022-12-02T05:06:59.131474Z",
     "iopub.status.busy": "2022-12-02T05:06:59.131103Z",
     "iopub.status.idle": "2022-12-02T05:06:59.397763Z",
     "shell.execute_reply": "2022-12-02T05:06:59.396768Z",
     "shell.execute_reply.started": "2022-12-02T05:06:59.131453Z"
    },
    "jupyter": {
     "outputs_hidden": false
    },
    "scrolled": true
   },
   "outputs": [
    {
     "name": "stdout",
     "output_type": "stream",
     "text": [
      "Data: 更年期的女boss真的让人受不了，烦躁 \t Lable: angry\r\n",
      "Data: 尼玛吓死我了，人家剪个头发回来跟劳改犯一样短的可怕，后面什么鬼[黑线][黑线][黑线][白眼][白眼] \t Lable: fear\r\n",
      "Data: 一个人真无聊，美食都没味了，你要在就好了…唉……… \t Lable: sad\r\n",
      "Data: 这个村的年轻人大多数都出外打工。 \t Lable: neutral\r\n",
      "Data: 谢谢honey们帮我庆祝生日！！！谢谢你们的祝福，谢谢身边的所有人！爱你们 \t Lable: happy\r\n",
      "Data: 我竟然才知道我有一个富二代加官二代加红二代的朋友 \t Lable: surprise\r\n"
     ]
    }
   ],
   "source": [
    "# 定义要进行预测的样本数据\n",
    "data = [\n",
    "    # angry\n",
    "    {\"text_a\": '更年期的女boss真的让人受不了，烦躁'},\n",
    "    # fear\n",
    "    {\"text_a\":'尼玛吓死我了，人家剪个头发回来跟劳改犯一样短的可怕，后面什么鬼[黑线][黑线][黑线][白眼][白眼]'},\n",
    "    # sad\n",
    "    {\"text_a\":'一个人真无聊，美食都没味了，你要在就好了…唉………'},\n",
    "    # neutral\n",
    "    {\"text_a\":\"这个村的年轻人大多数都出外打工。\"},\n",
    "    # happy\n",
    "    {\"text_a\":\"谢谢honey们帮我庆祝生日！！！谢谢你们的祝福，谢谢身边的所有人！爱你们\"},\n",
    "    # surprise\n",
    "    {\"text_a\":\"我竟然才知道我有一个富二代加官二代加红二代的朋友\"}\n",
    "]\n",
    "\n",
    "results = predict(model, data, tokenizer, label_map, batch_size=1)\n",
    "\n",
    "for idx, text in enumerate(data):\n",
    "    print('Data: {} \\t Lable: {}'.format(text['text_a'], results[idx]))"
   ]
  },
  {
   "cell_type": "markdown",
   "metadata": {},
   "source": [
    "## 3.7 读取文件进行批量预测并生成结果文件"
   ]
  },
  {
   "cell_type": "code",
   "execution_count": 32,
   "metadata": {
    "collapsed": false,
    "execution": {
     "iopub.execute_input": "2022-12-02T05:06:59.398981Z",
     "iopub.status.busy": "2022-12-02T05:06:59.398746Z",
     "iopub.status.idle": "2022-12-02T05:06:59.433904Z",
     "shell.execute_reply": "2022-12-02T05:06:59.433278Z",
     "shell.execute_reply.started": "2022-12-02T05:06:59.398960Z"
    },
    "jupyter": {
     "outputs_hidden": false
    },
    "scrolled": true
   },
   "outputs": [
    {
     "data": {
      "text/html": [
       "<div>\n",
       "<style scoped>\n",
       "    .dataframe tbody tr th:only-of-type {\n",
       "        vertical-align: middle;\n",
       "    }\n",
       "\n",
       "    .dataframe tbody tr th {\n",
       "        vertical-align: top;\n",
       "    }\n",
       "\n",
       "    .dataframe thead th {\n",
       "        text-align: right;\n",
       "    }\n",
       "</style>\n",
       "<table border=\"1\" class=\"dataframe\">\n",
       "  <thead>\n",
       "    <tr style=\"text-align: right;\">\n",
       "      <th></th>\n",
       "      <th>text_a</th>\n",
       "      <th>label</th>\n",
       "    </tr>\n",
       "  </thead>\n",
       "  <tbody>\n",
       "    <tr>\n",
       "      <th>0</th>\n",
       "      <td>//@UNIQ-王一博:#致敬疫情前线医护人员#你们辛苦了！愿平安！[心]</td>\n",
       "      <td>happy</td>\n",
       "    </tr>\n",
       "    <tr>\n",
       "      <th>1</th>\n",
       "      <td>幸亏我爸妈听话//@北国佳人李春姬:令人窒息</td>\n",
       "      <td>fear</td>\n",
       "    </tr>\n",
       "    <tr>\n",
       "      <th>2</th>\n",
       "      <td>我大河南！！！！[good][good][good][good][good][good]</td>\n",
       "      <td>happy</td>\n",
       "    </tr>\n",
       "    <tr>\n",
       "      <th>3</th>\n",
       "      <td>#疫情地图#鸡蛋挺住#青海祈福# ? ??</td>\n",
       "      <td>happy</td>\n",
       "    </tr>\n",
       "    <tr>\n",
       "      <th>4</th>\n",
       "      <td>肏//@马睿_Ray:[doge]//@Erlang:[doge]//@沈沉舟:那是2003...</td>\n",
       "      <td>neutral</td>\n",
       "    </tr>\n",
       "  </tbody>\n",
       "</table>\n",
       "</div>"
      ],
      "text/plain": [
       "                                              text_a    label\n",
       "0              //@UNIQ-王一博:#致敬疫情前线医护人员#你们辛苦了！愿平安！[心]    happy\n",
       "1                             幸亏我爸妈听话//@北国佳人李春姬:令人窒息     fear\n",
       "2       我大河南！！！！[good][good][good][good][good][good]    happy\n",
       "3                              #疫情地图#鸡蛋挺住#青海祈福# ? ??    happy\n",
       "4  肏//@马睿_Ray:[doge]//@Erlang:[doge]//@沈沉舟:那是2003...  neutral"
      ]
     },
     "execution_count": 32,
     "metadata": {},
     "output_type": "execute_result"
    }
   ],
   "source": [
    "# 扩展：读取测试集文件并进行预测，一般用于比赛结果提交或对文件进行批量预测场景\n",
    "test = pd.read_csv('./test.csv',sep='\\t')  # 读取测试集\n",
    "# 读取数据前5条\n",
    "test.head()"
   ]
  },
  {
   "cell_type": "code",
   "execution_count": 33,
   "metadata": {
    "collapsed": false,
    "execution": {
     "iopub.execute_input": "2022-12-02T05:06:59.436654Z",
     "iopub.status.busy": "2022-12-02T05:06:59.436314Z",
     "iopub.status.idle": "2022-12-02T05:06:59.443713Z",
     "shell.execute_reply": "2022-12-02T05:06:59.443101Z",
     "shell.execute_reply.started": "2022-12-02T05:06:59.436631Z"
    },
    "jupyter": {
     "outputs_hidden": false
    },
    "scrolled": true
   },
   "outputs": [],
   "source": [
    "# 定义对数据的预处理函数,处理为指定格式\n",
    "def preprocess_prediction_data(data):\n",
    "    examples = []\n",
    "    for text_a in data:\n",
    "        examples.append({\"text_a\": text_a})\n",
    "    return examples\n",
    "\n",
    "# 对测试集数据进行格式处理\n",
    "data1 = list(test.text_a)\n",
    "examples = preprocess_prediction_data(data1)"
   ]
  },
  {
   "cell_type": "code",
   "execution_count": 34,
   "metadata": {
    "collapsed": false,
    "execution": {
     "iopub.execute_input": "2022-12-02T05:06:59.444739Z",
     "iopub.status.busy": "2022-12-02T05:06:59.444522Z",
     "iopub.status.idle": "2022-12-02T05:09:45.570481Z",
     "shell.execute_reply": "2022-12-02T05:09:45.569322Z",
     "shell.execute_reply.started": "2022-12-02T05:06:59.444719Z"
    },
    "jupyter": {
     "outputs_hidden": false
    },
    "scrolled": true
   },
   "outputs": [],
   "source": [
    "results = predict(model, examples, tokenizer, label_map, batch_size=2)   # 对测试集进行预测"
   ]
  },
  {
   "cell_type": "code",
   "execution_count": 35,
   "metadata": {
    "collapsed": false,
    "execution": {
     "iopub.execute_input": "2022-12-02T05:09:45.572782Z",
     "iopub.status.busy": "2022-12-02T05:09:45.572398Z",
     "iopub.status.idle": "2022-12-02T05:09:45.579219Z",
     "shell.execute_reply": "2022-12-02T05:09:45.578158Z",
     "shell.execute_reply.started": "2022-12-02T05:09:45.572747Z"
    },
    "jupyter": {
     "outputs_hidden": false
    },
    "scrolled": true
   },
   "outputs": [],
   "source": [
    "# 保存对测试集的预测结果文件，此处设置保存格式为text_a,label\n",
    "results = pd.DataFrame(results)\n",
    "results.columns = [\"label\"]"
   ]
  },
  {
   "cell_type": "code",
   "execution_count": 36,
   "metadata": {
    "collapsed": false,
    "execution": {
     "iopub.execute_input": "2022-12-02T05:09:45.580384Z",
     "iopub.status.busy": "2022-12-02T05:09:45.580066Z",
     "iopub.status.idle": "2022-12-02T05:09:45.589072Z",
     "shell.execute_reply": "2022-12-02T05:09:45.588459Z",
     "shell.execute_reply.started": "2022-12-02T05:09:45.580363Z"
    },
    "jupyter": {
     "outputs_hidden": false
    },
    "scrolled": true
   },
   "outputs": [
    {
     "name": "stdout",
     "output_type": "stream",
     "text": [
      "(8000, 2)\r\n"
     ]
    }
   ],
   "source": [
    "results['text_a'] = test['text_a']\n",
    "results = results[['text_a','label']]\n",
    "print(results.shape)"
   ]
  },
  {
   "cell_type": "code",
   "execution_count": 37,
   "metadata": {
    "collapsed": false,
    "execution": {
     "iopub.execute_input": "2022-12-02T05:09:45.590217Z",
     "iopub.status.busy": "2022-12-02T05:09:45.589840Z",
     "iopub.status.idle": "2022-12-02T05:09:45.613409Z",
     "shell.execute_reply": "2022-12-02T05:09:45.612711Z",
     "shell.execute_reply.started": "2022-12-02T05:09:45.590197Z"
    },
    "jupyter": {
     "outputs_hidden": false
    },
    "scrolled": true
   },
   "outputs": [],
   "source": [
    "# 保存结果文件\n",
    "results.to_csv('./submission.csv', sep='\\t', index=False)"
   ]
  },
  {
   "cell_type": "code",
   "execution_count": 38,
   "metadata": {
    "collapsed": false,
    "execution": {
     "iopub.execute_input": "2022-12-02T05:09:45.614456Z",
     "iopub.status.busy": "2022-12-02T05:09:45.614195Z",
     "iopub.status.idle": "2022-12-02T05:09:45.622187Z",
     "shell.execute_reply": "2022-12-02T05:09:45.621577Z",
     "shell.execute_reply.started": "2022-12-02T05:09:45.614437Z"
    },
    "jupyter": {
     "outputs_hidden": false
    },
    "scrolled": true
   },
   "outputs": [
    {
     "data": {
      "text/html": [
       "<div>\n",
       "<style scoped>\n",
       "    .dataframe tbody tr th:only-of-type {\n",
       "        vertical-align: middle;\n",
       "    }\n",
       "\n",
       "    .dataframe tbody tr th {\n",
       "        vertical-align: top;\n",
       "    }\n",
       "\n",
       "    .dataframe thead th {\n",
       "        text-align: right;\n",
       "    }\n",
       "</style>\n",
       "<table border=\"1\" class=\"dataframe\">\n",
       "  <thead>\n",
       "    <tr style=\"text-align: right;\">\n",
       "      <th></th>\n",
       "      <th>text_a</th>\n",
       "      <th>label</th>\n",
       "    </tr>\n",
       "  </thead>\n",
       "  <tbody>\n",
       "    <tr>\n",
       "      <th>0</th>\n",
       "      <td>//@UNIQ-王一博:#致敬疫情前线医护人员#你们辛苦了！愿平安！[心]</td>\n",
       "      <td>happy</td>\n",
       "    </tr>\n",
       "    <tr>\n",
       "      <th>1</th>\n",
       "      <td>幸亏我爸妈听话//@北国佳人李春姬:令人窒息</td>\n",
       "      <td>fear</td>\n",
       "    </tr>\n",
       "    <tr>\n",
       "      <th>2</th>\n",
       "      <td>我大河南！！！！[good][good][good][good][good][good]</td>\n",
       "      <td>happy</td>\n",
       "    </tr>\n",
       "    <tr>\n",
       "      <th>3</th>\n",
       "      <td>#疫情地图#鸡蛋挺住#青海祈福# ? ??</td>\n",
       "      <td>happy</td>\n",
       "    </tr>\n",
       "    <tr>\n",
       "      <th>4</th>\n",
       "      <td>肏//@马睿_Ray:[doge]//@Erlang:[doge]//@沈沉舟:那是2003...</td>\n",
       "      <td>neutral</td>\n",
       "    </tr>\n",
       "  </tbody>\n",
       "</table>\n",
       "</div>"
      ],
      "text/plain": [
       "                                              text_a    label\n",
       "0              //@UNIQ-王一博:#致敬疫情前线医护人员#你们辛苦了！愿平安！[心]    happy\n",
       "1                             幸亏我爸妈听话//@北国佳人李春姬:令人窒息     fear\n",
       "2       我大河南！！！！[good][good][good][good][good][good]    happy\n",
       "3                              #疫情地图#鸡蛋挺住#青海祈福# ? ??    happy\n",
       "4  肏//@马睿_Ray:[doge]//@Erlang:[doge]//@沈沉舟:那是2003...  neutral"
      ]
     },
     "execution_count": 38,
     "metadata": {},
     "output_type": "execute_result"
    }
   ],
   "source": [
    "# 查看预测结果前5条\n",
    "results.head()"
   ]
  },
  {
   "cell_type": "markdown",
   "metadata": {},
   "source": [
    "F1-Score评估："
   ]
  },
  {
   "cell_type": "code",
   "execution_count": 39,
   "metadata": {
    "collapsed": false,
    "execution": {
     "iopub.execute_input": "2022-12-02T05:09:45.623274Z",
     "iopub.status.busy": "2022-12-02T05:09:45.622971Z",
     "iopub.status.idle": "2022-12-02T05:09:45.729415Z",
     "shell.execute_reply": "2022-12-02T05:09:45.728737Z",
     "shell.execute_reply.started": "2022-12-02T05:09:45.623254Z"
    },
    "jupyter": {
     "outputs_hidden": false
    },
    "scrolled": true
   },
   "outputs": [
    {
     "name": "stdout",
     "output_type": "stream",
     "text": [
      "0.7427947193456151 0.7392233723021402 0.7494588509268927\r\n"
     ]
    }
   ],
   "source": [
    "# 由于此次使用的测试集是已经提供了真实标签的，因此我们还可以通过其真实标签和预测的标签进行F1-Score评估，F1-Score评估也是目前比赛中常用的一个评估指标\n",
    "\n",
    "# 转换预测结果标签格式为list\n",
    "y_pre = np.array(results['label'])\n",
    "y_pre =y_pre.tolist()\n",
    "\n",
    "# 转换测试集的真实类别标签格式为list\n",
    "y_val = np.array(test['label'])\n",
    "y_val =y_val.tolist()\n",
    "\n",
    "# 计算预测结果的F1-score值\n",
    "from sklearn.metrics import precision_recall_fscore_support,f1_score,precision_score,recall_score\n",
    "f1 = f1_score(y_val, y_pre, average='macro')  # F1-score\n",
    "p = precision_score(y_val, y_pre, average='macro')  # 精准度 / 查准率\n",
    "r = recall_score(y_val, y_pre, average='macro')  # 召回率 / 查全率\n",
    "print(f1, p, r)"
   ]
  },
  {
   "cell_type": "markdown",
   "metadata": {},
   "source": [
    "ps:感兴趣的可以在基线模型的基础上通过调参优化、选用其他预训练模型、数据增强和清洗、多模型结果融合、修改网络结构等方式进一步优化提升效果！"
   ]
  },
  {
   "cell_type": "markdown",
   "metadata": {},
   "source": [
    "# 四.项目总结\n",
    "\n",
    "1.本项目主要使用了SMP2020微博情绪分类数据集，该数据集可以很好地适用于构建细粒度的微情感分析模型或也可以作为其他微情感分析数据集的一个很好补充。感兴趣的可以使用该数据集进行更多的扩展。\n",
    "\n",
    "该数据集相关比赛[SMP2020微博情绪分类技术评测](http://39.97.118.137/)已经结束，感兴趣的可以前往其官网页下载并学习Top选手们的技术报告&汇报PPT分享等。在GitHub搜索SMP2020即可查看top选手们的开源代码。\n",
    "\n",
    "2.本项目还提供了基于PaddleNLP的预训练模型微调通用代码，使用上参照第二部分将训练和验证集数据处理为text_a,label格式后即可直接套用于类似比赛或项目中去。如想要使用其他预训练模型简单修改模型加载处的代码即可。\n",
    "\n",
    "3.关于微情感分析系统项目实战，感兴趣的可以参考我之前的项目：[PaddleHub实战：基于OCEMOTION的中文微情感分析系统](https://aistudio.baidu.com/aistudio/projectdetail/2211726)\n",
    "\n",
    "4.关于PaddleNLP的使用，建议多阅读官方文档[PaddleNLP文档](https://paddlenlp.readthedocs.io/zh/latest/get_started/quick_start.html)\n",
    "\n",
    "PaddleNLP的github地址：[https://github.com/PaddlePaddle/PaddleNLP](https://github.com/PaddlePaddle/PaddleNLP)  有问题难以解决的话可以在github上提issue。\n",
    "\n",
    "若大家喜欢，希望能够fork、喜欢、关注三连！❤"
   ]
  },
  {
   "cell_type": "markdown",
   "metadata": {},
   "source": [
    "# 五.作者介绍\n",
    "\n",
    "> 昵称：[炼丹师233](https://aistudio.baidu.com/aistudio/personalcenter/thirdview/330406)\n",
    "\n",
    "> [飞桨开发者技术专家 PPDE](https://www.paddlepaddle.org.cn/ppde)\n",
    "\n",
    "\n",
    "> Github地址：[https://github.com/hchhtc123](https://github.com/hchhtc123)\n",
    "\n",
    "> 研究方向： 全栈小菜鸡，主攻大数据开发和NLP方向，喜欢捣鼓有趣项目。\n",
    "\n",
    "> [https://aistudio.baidu.com/aistudio/personalcenter/thirdview/330406](https://aistudio.baidu.com/aistudio/personalcenter/thirdview/330406) 关注我，下次带来更多精彩项目分享！"
   ]
  }
 ],
 "metadata": {
  "kernelspec": {
   "display_name": "Python 3",
   "language": "python",
   "name": "py35-paddle1.2.0"
  },
  "language_info": {
   "codemirror_mode": {
    "name": "ipython",
    "version": 3
   },
   "file_extension": ".py",
   "mimetype": "text/x-python",
   "name": "python",
   "nbconvert_exporter": "python",
   "pygments_lexer": "ipython3",
   "version": "3.7.4"
  }
 },
 "nbformat": 4,
 "nbformat_minor": 4
}
